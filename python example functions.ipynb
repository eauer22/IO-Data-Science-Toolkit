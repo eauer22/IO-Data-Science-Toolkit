{
  "metadata": {
    "bento_stylesheets": {
      "bento/extensions/flow/main.css": true,
      "bento/extensions/kernel_selector/main.css": true,
      "bento/extensions/kernel_ui/main.css": true,
      "bento/extensions/new_kernel/main.css": true,
      "bento/extensions/system_usage/main.css": true,
      "bento/extensions/theme/main.css": true
    },
    "kernelspec": {
      "display_name": "python3",
      "language": "",
      "name": "python3",
      "metadata": null
    },
    "language_info": {
      "codemirror_mode": {
        "name": "ipython",
        "version": 3
      },
      "file_extension": ".py",
      "mimetype": "text/x-python",
      "name": "python",
      "nbconvert_exporter": "python",
      "pygments_lexer": "ipython3"
    }
  },
  "nbformat": 4,
  "nbformat_minor": 2,
  "cells": [
    {
      "cell_type": "code",
      "metadata": {
        "collapsed": true,
        "originalKey": "d143347d-661d-41f6-98cc-cba915c9bb2c",
        "code_folding": [],
        "hidden_ranges": []
      },
      "source": [
        "'''\r\n",
        "this is a notebook to write some basic example functions\r\n",
        "and whatever else I need\r\n",
        "as an example for the SIOP 2021 DS Presentation\r\n",
        "'''\r\n",
        ""
      ],
      "execution_count": null,
      "outputs": []
    },
    {
      "cell_type": "code",
      "metadata": {
        "originalKey": "afe265c3-5475-49e8-9c64-83f9bb09a0a7",
        "showInput": true,
        "customInput": null,
        "code_folding": [],
        "hidden_ranges": [],
        "collapsed": false
      },
      "source": [
        "# Define the function with a descriptive name\r\n",
        "def add_and_multiply(a, b):\r\n",
        "   \r\n",
        "    # this is a function that takes two arguments\r\n",
        "    # a and b, both numerical\r\n",
        "    # it returns the result of adding and of multiplying\r\n",
        "    # the two numbers\r\n",
        "\r\n",
        "    print('a + b is:', (a + b))\r\n",
        "    print('a * b is:', (a * b))\r\n",
        "\r\n",
        "\r\n",
        "# Call the function with a=5, b=7\r\n",
        "add_and_multiply(5, 7)"
      ],
      "execution_count": 2,
      "outputs": [
        {
          "output_type": "stream",
          "name": "stdout",
          "text": [
            "a + b is: 12\na * b is: 35\n"
          ]
        }
      ]
    },
    {
      "cell_type": "code",
      "metadata": {
        "originalKey": "765ab98b-737a-4b9e-8342-2b50935c5920",
        "showInput": true,
        "customInput": null,
        "code_folding": [],
        "hidden_ranges": [],
        "collapsed": false
      },
      "source": [
        "# Define the function with a descriptive name\r\n",
        "def range_a_to_b(low_bound, high_bound):\r\n",
        "\r\n",
        "    # this is a function that takes two arguments\r\n",
        "    # low_bound and high_bound, both integers\r\n",
        "    # it will loop through the range and return\r\n",
        "    # each integer\r\n",
        "\r\n",
        "    for i in range(low_bound, high_bound):\r\n",
        "        print(i)\r\n",
        "\r\n",
        "# Call the function with low_bound=5 and high_bound=10\r\n",
        "range_a_to_b(low_bound=5, high_bound=10)"
      ],
      "execution_count": 5,
      "outputs": [
        {
          "output_type": "stream",
          "name": "stdout",
          "text": [
            "5\n6\n7\n8\n9\n"
          ]
        }
      ]
    },
    {
      "cell_type": "code",
      "metadata": {
        "originalKey": "e37406b6-9eea-420d-af56-a5c11453264b",
        "showInput": true,
        "customInput": null
      },
      "source": [
        ""
      ],
      "execution_count": null,
      "outputs": []
    }
  ]
}
